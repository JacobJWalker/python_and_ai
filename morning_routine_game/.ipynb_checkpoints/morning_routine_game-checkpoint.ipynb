{
 "cells": [
  {
   "cell_type": "code",
   "execution_count": 86,
   "metadata": {},
   "outputs": [
    {
     "name": "stdout",
     "output_type": "stream",
     "text": [
      "With 10000 simulations, you won 8682 times.\n",
      "This is 86.82 percent of the time\n"
     ]
    }
   ],
   "source": [
    "# Name: Morning Routine Game\n",
    "# Version: 0.2a3\n",
    "# Summary: This simulates playing the morning routine game to see how often should win.\n",
    "# Keywords: Monte Carlo\n",
    "# Author: Jacob J. Walker\n",
    "#\n",
    "# Header comments based on meta-data specs at https://packaging.python.org/specifications/core-metadata/\n",
    "\n",
    "# Set Parameter Variables\n",
    "probability_of_task = 0.5\n",
    "number_of_tasks = 8\n",
    "minutes_of_routine = 60\n",
    "minutes_of_a_segment = 3\n",
    "number_of_simulations = 10000\n",
    "\n",
    "# Loads random module\n",
    "import random\n",
    "\n",
    "wins = 0\n",
    "for i in range(1,number_of_simulations + 1):\n",
    "    # Initialize Working Variables\n",
    "    minutes = 0\n",
    "    tasks_completed = 0\n",
    "\n",
    "    # Simulate the Morning Routine Game\n",
    "    while minutes < minutes_of_routine and tasks_completed < number_of_tasks:\n",
    "        if random.random() <= probability_of_task:\n",
    "#             print(\"We did a task!\")\n",
    "            tasks_completed = tasks_completed + 1\n",
    "#         else:\n",
    "#             print(\"We didn't do a task, but had fun instead.\")\n",
    "\n",
    "        minutes = minutes + minutes_of_a_segment\n",
    "\n",
    "#     print(str(minutes) + \" minutes have occurred. \" + str(tasks_completed) + \" tasks have finished\")\n",
    "\n",
    "    if tasks_completed >= number_of_tasks:\n",
    "#         print(\"We won!\")\n",
    "        wins = wins + 1\n",
    "#     else:\n",
    "#         print(\"We lost :-(\")\n",
    "        \n",
    "print(\"With \" + str(number_of_simulations) + \" simulations, you won \" + str(wins) + \" times.\")\n",
    "print(\"This is \" + str((wins/number_of_simulations)*100) + \" percent of the time\")\n",
    "    "
   ]
  },
  {
   "cell_type": "code",
   "execution_count": null,
   "metadata": {},
   "outputs": [],
   "source": []
  },
  {
   "cell_type": "code",
   "execution_count": null,
   "metadata": {},
   "outputs": [],
   "source": []
  }
 ],
 "metadata": {
  "kernelspec": {
   "display_name": "Python 3",
   "language": "python",
   "name": "python3"
  },
  "language_info": {
   "codemirror_mode": {
    "name": "ipython",
    "version": 3
   },
   "file_extension": ".py",
   "mimetype": "text/x-python",
   "name": "python",
   "nbconvert_exporter": "python",
   "pygments_lexer": "ipython3",
   "version": "3.7.6"
  }
 },
 "nbformat": 4,
 "nbformat_minor": 4
}
