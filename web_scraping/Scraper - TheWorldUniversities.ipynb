{
 "cells": [
  {
   "cell_type": "code",
   "execution_count": null,
   "metadata": {},
   "outputs": [],
   "source": [
    "# Name:     Web Scraper of the World University Rankings\n",
    "# Version:  0.1a1\n",
    "# Summary:  This is a webscraper of data from (https://www.timeshighereducation.com/world-university-rankings/2020/world-ranking#!/page/0/length/25/sort_by/rank/sort_order/asc/cols/stats)\n",
    "# Keywords:\n",
    "# Author:   Jacob J. Walker \n",
    "#\n",
    "# Header comments based on meta-data specs at https://packaging.python.org/specifications/core-metadata/\n",
    "import time; section_start = {'Full Script': time.time()}"
   ]
  },
  {
   "cell_type": "code",
   "execution_count": null,
   "metadata": {},
   "outputs": [],
   "source": [
    "# Set Script General Parameters                                                                        # Code Block Info: 2020-06-11 From Python TemplateG\n",
    "\n",
    "DEFAULT_SLEEP = 5                          # Number of seconds that should be paused between actions that need pausing\n",
    "TIMEOUT_MINUTES = 60                       # Variable used to Know when to Timeout\n",
    "DRY_RUN = False                            # Variables used for Testing\n",
    "SILENT_MODE = False"
   ]
  },
  {
   "cell_type": "code",
   "execution_count": null,
   "metadata": {},
   "outputs": [],
   "source": [
    "# Set Path and Filename Parameters                                                      # Code Block Info: 2020-06-11 From Python Template\n",
    "\n",
    "SAVE_PATH = \"C:/Users/Jacob.Walker/Downloads\"\n",
    "SAVE_FILE_BASE = \"worlduniversityranking\"\n",
    "SAVE_FILE_EXT = \".csv\""
   ]
  },
  {
   "cell_type": "code",
   "execution_count": null,
   "metadata": {},
   "outputs": [],
   "source": [
    "# Initialize Package Loader Function                                                                  # Code Block Info: 2020-04-27 From Python Template\n",
    "# Acts similar to R's pacman p_load\n",
    "\n",
    "# Modules used in Code Block\n",
    "import pip\n",
    "import importlib\n",
    "\n",
    "\n",
    "def p_load(package, *functions_, as_=None, module=None):\n",
    "    if as_ is None:\n",
    "        as_ = package\n",
    "    \n",
    "    if module is None:\n",
    "        module = package\n",
    "        \n",
    "    try:\n",
    "        globals()[as_] = importlib.import_module(module)\n",
    "    except:\n",
    "        if hasattr(pip, 'main'):\n",
    "            pip.main(['install', package])\n",
    "        else:\n",
    "            pip._internal.main(['install', package])\n",
    "        globals()[as_] = importlib.import_module(package)\n",
    "        \n",
    "# Need to figure out how to load individual functions\n",
    "# See https://stackoverflow.com/questions/56902954/how-to-use-from-x-import-y-using-importlib-in-python\n",
    "# See https://www.informit.com/articles/article.aspx?p=2314818      "
   ]
  },
  {
   "cell_type": "code",
   "execution_count": null,
   "metadata": {},
   "outputs": [],
   "source": [
    "# Run Selenium                                                                                      # Code Block Info: 2020-06-23 From Python Template\n",
    "\n",
    "# Download the Gecko Driver from https://github.com/mozilla/geckodriver/releases/latest\n",
    "# and place its location in the GECKO_DRIVER_PATH constant\n",
    "GECKO_DRIVER_PATH = 'C:/Users/Jacob.Walker/Documents'\n",
    "\n",
    "# Modules used in Code Block\n",
    "p_load('selenium')                  # Similar to RSelenium package\n",
    "p_load('re')                        # Includes sub to act like gsub\n",
    "p_load('os')\n",
    "p_load('time')\n",
    "from selenium import webdriver\n",
    "from selenium.webdriver.common.keys import Keys\n",
    "from selenium.webdriver.firefox.options import Options\n",
    "\n",
    "def start_selenium_firefox(gecko_driver_path, save_path):\n",
    "    # Ensures Path points to Gecko Driver Folder\n",
    "    orig_path = os.environ.get('PATH')\n",
    "    os.environ['PATH'] = orig_path + ';' + gecko_driver_path\n",
    "\n",
    "    # Set FireFox Settings\n",
    "    fp = webdriver.FirefoxProfile()\n",
    "\n",
    "    AUTO_SAVE_MIME_TYPES = \"text/csv, application/csv, charset=utf-8, text/comma-separated-values, text/plain, application/vnd.ms-excel, application/octet-stream, application/download\"\n",
    "    fp.set_preference(\"browser.helperApps.neverAsk.saveToDisk\",AUTO_SAVE_MIME_TYPES)\n",
    "    fp.set_preference(\"browser.download.manager.showWhenStarting\",False)\n",
    "    fp.set_preference(\"browser.download.dir\",re.sub(\"/\", \"\\\\\\\\\", save_path))\n",
    "    fp.set_preference(\"browser.download.folderList\",2)\n",
    "    fp.set_preference(\"browser.helperApps.alwaysAsk.force\",False)\n",
    "    fo = Options()\n",
    "    if SILENT_MODE:\n",
    "        fo.headless = True\n",
    "    Enter = \"\\uE003\"\n",
    "\n",
    "    # Start the Selenium web driver\n",
    "    web_driver = webdriver.Firefox(firefox_profile=fp, options=fo)\n",
    "    default_page_load_timeout = web_driver.capabilities['timeouts'][\"pageLoad\"]\n",
    "    \n",
    "    # pauses one second to help ensure proper working\n",
    "    time.sleep(1)\n",
    "    \n",
    "    # Return web_driver\n",
    "    return web_driver\n",
    "\n",
    "# Stub to start Selenium\n",
    "web_driver = start_selenium_firefox(GECKO_DRIVER_PATH, SAVE_PATH)\n"
   ]
  }
 ],
 "metadata": {
  "kernelspec": {
   "display_name": "Python 3",
   "language": "python",
   "name": "python3"
  },
  "language_info": {
   "codemirror_mode": {
    "name": "ipython",
    "version": 3
   },
   "file_extension": ".py",
   "mimetype": "text/x-python",
   "name": "python",
   "nbconvert_exporter": "python",
   "pygments_lexer": "ipython3",
   "version": "3.7.6"
  }
 },
 "nbformat": 4,
 "nbformat_minor": 4
}
