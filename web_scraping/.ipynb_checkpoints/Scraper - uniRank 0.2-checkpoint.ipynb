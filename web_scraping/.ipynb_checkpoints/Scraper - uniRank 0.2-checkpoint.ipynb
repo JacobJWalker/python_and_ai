{
 "cells": [
  {
   "cell_type": "code",
   "execution_count": 1,
   "metadata": {},
   "outputs": [],
   "source": [
    "# Name: uniRank University Scraper\n",
    "# Version: 0.2b1\n",
    "# Summary: Downloads University Revie data from uniRank (https://www.4icu.org/reviews/*.htm) and saves it into a CSV\n",
    "# Keywords: uniRank, International Universities\n",
    "# Author: Jacob J. Walker\n",
    "#\n",
    "# Header comments based on meta-data specs at https://packaging.python.org/specifications/core-metadata/\n",
    "\n",
    "import time; section_start = {'Full Script': time.time()}"
   ]
  },
  {
   "cell_type": "code",
   "execution_count": 2,
   "metadata": {},
   "outputs": [],
   "source": [
    "# Set Script General Parameters                                                                        # Code Block Info: 2020-06-11 From Python TemplateG\n",
    "\n",
    "DEFAULT_SLEEP = 5                          # Number of seconds that should be paused between actions that need pausing\n",
    "TIMEOUT_MINUTES = 60                       # Variable used to Know when to Timeout\n",
    "DRY_RUN = False                            # Variables used for Testing"
   ]
  },
  {
   "cell_type": "code",
   "execution_count": 3,
   "metadata": {},
   "outputs": [],
   "source": [
    "# Set Path and Filename Parameters                                                      # Code Block Info: 2020-06-11 From Python Template\n",
    "\n",
    "SAVE_PATH = \"C:/Users/Jacob.Walker/Downloads\"\n",
    "SAVE_FILE_BASE = \"uniRank\"\n",
    "SAVE_FILE_EXT = \".csv\""
   ]
  },
  {
   "cell_type": "code",
   "execution_count": 4,
   "metadata": {},
   "outputs": [],
   "source": [
    "###########################\n",
    "section =  'Initialization' \n",
    "###########################\n",
    "import time; section_start[section] = time.time()"
   ]
  },
  {
   "cell_type": "code",
   "execution_count": 5,
   "metadata": {},
   "outputs": [],
   "source": [
    "# Initialize Package Loader Function                                                                  # Code Block Info: 2020-04-27 From Python Template\n",
    "# Acts similar to R's pacman p_load\n",
    "\n",
    "# Modules used in Code Block\n",
    "import pip\n",
    "import importlib\n",
    "\n",
    "\n",
    "def p_load(package, *functions_, as_=None, module=None):\n",
    "    if as_ is None:\n",
    "        as_ = package\n",
    "    \n",
    "    if module is None:\n",
    "        module = package\n",
    "        \n",
    "    try:\n",
    "        globals()[as_] = importlib.import_module(module)\n",
    "    except:\n",
    "        if hasattr(pip, 'main'):\n",
    "            pip.main(['install', package])\n",
    "        else:\n",
    "            pip._internal.main(['install', package])\n",
    "        globals()[as_] = importlib.import_module(package)\n",
    "        \n",
    "# Need to figure out how to load individual functions\n",
    "# See https://stackoverflow.com/questions/56902954/how-to-use-from-x-import-y-using-importlib-in-python\n",
    "# See https://www.informit.com/articles/article.aspx?p=2314818          "
   ]
  },
  {
   "cell_type": "code",
   "execution_count": 6,
   "metadata": {},
   "outputs": [],
   "source": [
    "# Set Path and Filename Variables based on original parameters                           # Code Block Info: 2020-06-12 From Python Template\n",
    "\n",
    "# Modules used in Code Block\n",
    "p_load('pandas', as_='pd')          # Package that provides dataframes similar to R as well as a lot of other data manipulation abilities\n",
    "p_load('arrow')                     # Similar to lubridate, although it has a different syntax\n",
    "p_load('re')                        # Includes sub to act like gsub\n",
    "\n",
    "# Get dates for date stamps\n",
    "date_stamp = arrow.now('US/Pacific').strftime(\"%Y-%m-%d %H%M\")\n",
    "doc_date = arrow.now('US/Pacific').strftime(\"%m/%d/%Y %I:%M %p\")\n",
    "\n",
    "# Convert backslashes to forward slashes to be more Python friendly\n",
    "SAVE_PATH = re.sub(\"\\\\\\\\\", \"/\", SAVE_PATH)\n",
    "\n",
    "# Set a full save path that includes the date/time stamp\n",
    "FULL_SAVE_PATH = SAVE_PATH + \"/\" + SAVE_FILE_BASE + \" \" + date_stamp + SAVE_FILE_EXT\n",
    "\n",
    "# Set Pandas Options\n",
    "pd.set_option('display.max_colwidth', None)\n",
    "pd.set_option('display.max_columns', None)  "
   ]
  },
  {
   "cell_type": "code",
   "execution_count": 7,
   "metadata": {},
   "outputs": [
    {
     "name": "stdout",
     "output_type": "stream",
     "text": [
      "Untitled\n"
     ]
    },
    {
     "data": {
      "text/plain": [
       "2"
      ]
     },
     "execution_count": 7,
     "metadata": {},
     "output_type": "execute_result"
    }
   ],
   "source": [
    "# Set Up Logging                                                                                 # Code Block Info: 2020-04-30 From Python Template\n",
    "\n",
    "# Modules used in Code Block\n",
    "p_load('loguru')                    # Package to make python logging simple\n",
    "p_load('warnings')                  # Built-in module to deal with warnings\n",
    "p_load('urllib')                    # Package to handle working with URLs and web pages\n",
    "p_load('json')                      # Packge to handle json\n",
    "p_load('os')                        # Built-in module similar to R's sys\n",
    "p_load('sys')                       # Built-in module similar to R's sys\n",
    "p_load('notebook')                  # Package used for Jupyter Notebooks\n",
    "p_load('ipykernel')                 # Another Package for Jupyter\n",
    "from notebook import notebookapp\n",
    "from loguru import logger\n",
    "\n",
    "\n",
    "# Functions Used in Code Block\n",
    "\n",
    "def notebook_path():\n",
    "    # See https://stackoverflow.com/questions/12544056/how-do-i-get-the-current-ipython-jupyter-notebook-name\n",
    "    \"\"\"Returns the absolute path of the Notebook or None if it cannot be determined\n",
    "    NOTE: works only when the security is token-based or there is also no password\n",
    "    \"\"\"\n",
    "    connection_file = os.path.basename(ipykernel.get_connection_file())\n",
    "    kernel_id = connection_file.split('-', 1)[1].split('.')[0]\n",
    "\n",
    "    for srv in notebookapp.list_running_servers():\n",
    "        try:\n",
    "            if srv['token']=='' and not srv['password']:  # No token and no password, ahem...\n",
    "                req = urllib.request.urlopen(srv['url']+'api/sessions')\n",
    "            else:\n",
    "                req = urllib.request.urlopen(srv['url']+'api/sessions?token='+srv['token'])\n",
    "            sessions = json.load(req)\n",
    "            for sess in sessions:\n",
    "                if sess['kernel']['id'] == kernel_id:\n",
    "                    return os.path.join(srv['notebook_dir'],sess['notebook']['path'])\n",
    "        except:\n",
    "            pass  # There may be stale entries in the runtime directory \n",
    "    return None\n",
    "\n",
    "def script_name():\n",
    "    try:\n",
    "        return os.path.splitext(os.path.basename(notebook_path()))[0]\n",
    "    except:\n",
    "        return os.path.splitext(os.path.basename(__file__))[0]\n",
    "\n",
    "def script_path():\n",
    "    try:\n",
    "        return os.path.dirname(notebook_path())\n",
    "    except:\n",
    "        return os.path.dirname(os.path.realpath(__file__))  \n",
    "    \n",
    "    \n",
    "# Logs all Warnings Emitted by Application\n",
    "showwarning_ = warnings.showwarning\n",
    "\n",
    "def showwarning(message, *args, **kwargs):\n",
    "    logger.warning(message)\n",
    "    showwarning_(message, *args, **kwargs)\n",
    "\n",
    "warnings.showwarning = showwarning\n",
    "\n",
    "# Logs all Exceptions (Only works with .py files, not in Jupyter)\n",
    "excepthook_ = sys.excepthook\n",
    "\n",
    "def excepthook(type, value, traceback):\n",
    "    logger.exception(type + \": \" + value)\n",
    "    excepthook_(type, value, traceback)\n",
    "\n",
    "sys.excepthook = excepthook\n",
    "\n",
    "\n",
    "# Code Block    \n",
    "print(script_name())\n",
    "logger.remove()\n",
    "logger.add(sys.stderr, level=\"INFO\")\n",
    "logger.add(script_path()+\"/\"+script_name()+\".log\",  backtrace=False, level=\"SUCCESS\")"
   ]
  },
  {
   "cell_type": "code",
   "execution_count": 8,
   "metadata": {},
   "outputs": [
    {
     "name": "stderr",
     "output_type": "stream",
     "text": [
      "2020-06-21 13:18:44.654 | SUCCESS  | __main__:<module>:2 - Initialization completed in 00 hours 00 minutes and 04 seconds\n"
     ]
    }
   ],
   "source": [
    "#################################################################################################################################################\n",
    "logger.success(section + \" completed in \" + time.strftime(\"%H hours %M minutes and %S seconds\", time.gmtime(time.time()-section_start[section])))\n",
    "#################################################################################################################################################"
   ]
  },
  {
   "cell_type": "code",
   "execution_count": 9,
   "metadata": {},
   "outputs": [],
   "source": [
    "##########################\n",
    "section = 'Web Scraping'\n",
    "##########################\n",
    "import time; section_start[section] = time.time()"
   ]
  },
  {
   "cell_type": "code",
   "execution_count": null,
   "metadata": {},
   "outputs": [],
   "source": []
  },
  {
   "cell_type": "code",
   "execution_count": null,
   "metadata": {},
   "outputs": [],
   "source": [
    "\n",
    "\n"
   ]
  },
  {
   "cell_type": "code",
   "execution_count": 18,
   "metadata": {},
   "outputs": [],
   "source": []
  },
  {
   "cell_type": "code",
   "execution_count": 14,
   "metadata": {},
   "outputs": [],
   "source": [
    "# Run Selenium                                                                                      # Code Block Info: 2020-06-20 From Python Template\n",
    "\n",
    "GECKO_DRIVER_PATH = 'C:/Users/Jacob.Walker/AppData/Local/binman/binman_geckodriver/win64/0.26.0'\n",
    "\n",
    "\n",
    "# Modules used in Code Block\n",
    "import selenium                 # Similar to RSelenium package\n",
    "import re                        # Includes sub to act like gsub\n",
    "import os\n",
    "from selenium import webdriver\n",
    "from selenium.webdriver.common.keys import Keys\n",
    "\n",
    "# Ensures Path points to Gecko Driver Folder\n",
    "orig_path = os.environ.get('PATH')\n",
    "os.environ['PATH'] = orig_path + ';' + GECKO_DRIVER_PATH\n",
    "\n",
    "# Start the Selenium web driver\n",
    "web_driver = webdriver.Firefox()"
   ]
  },
  {
   "cell_type": "code",
   "execution_count": 25,
   "metadata": {},
   "outputs": [],
   "source": [
    "# Create an Empty Dataframe for the web pages\n",
    "\n",
    "# Modules used in Code Block\n",
    "import pandas as pd          # Package that provides dataframes similar to R as well as a lot of other data manipulation abilities\n",
    "\n",
    "df = pd.DataFrame(columns=('name', 'url'))"
   ]
  },
  {
   "cell_type": "code",
   "execution_count": 29,
   "metadata": {},
   "outputs": [],
   "source": [
    "for i in range(1,4):\n",
    "    web_driver.get(\"https://www.4icu.org/reviews/\" + str(i) + \".htm\")\n",
    "    df.loc[i] = ''\n",
    "    web_elem = web_driver.find_element_by_xpath('/html/body/div[3]/div[3]/div[1]/div/div[2]/table/tbody/tr[1]/td/a/span')\n",
    "    df.loc[i]['name'] = web_elem.text\n",
    "    web_elem = web_driver.find_element_by_xpath('/html/body/div[3]/div[3]/div[1]/div/div[2]/table/tbody/tr[1]/td/a')\n",
    "    df.loc[i]['url'] = web_elem.get_attribute('href')"
   ]
  },
  {
   "cell_type": "code",
   "execution_count": 30,
   "metadata": {},
   "outputs": [
    {
     "data": {
      "text/html": [
       "<div>\n",
       "<style scoped>\n",
       "    .dataframe tbody tr th:only-of-type {\n",
       "        vertical-align: middle;\n",
       "    }\n",
       "\n",
       "    .dataframe tbody tr th {\n",
       "        vertical-align: top;\n",
       "    }\n",
       "\n",
       "    .dataframe thead th {\n",
       "        text-align: right;\n",
       "    }\n",
       "</style>\n",
       "<table border=\"1\" class=\"dataframe\">\n",
       "  <thead>\n",
       "    <tr style=\"text-align: right;\">\n",
       "      <th></th>\n",
       "      <th>name</th>\n",
       "      <th>url</th>\n",
       "    </tr>\n",
       "  </thead>\n",
       "  <tbody>\n",
       "    <tr>\n",
       "      <th>1</th>\n",
       "      <td>Universiteti Politeknik i Tiranës</td>\n",
       "      <td>http://www.upt.al/</td>\n",
       "    </tr>\n",
       "    <tr>\n",
       "      <th>2</th>\n",
       "      <td>Universiteti i Elbasanit Aleksander Xhuvani</td>\n",
       "      <td>http://www.uniel.edu.al/</td>\n",
       "    </tr>\n",
       "    <tr>\n",
       "      <th>3</th>\n",
       "      <td>Universiteti i Tiranës</td>\n",
       "      <td>http://unitir.edu.al/</td>\n",
       "    </tr>\n",
       "  </tbody>\n",
       "</table>\n",
       "</div>"
      ],
      "text/plain": [
       "                                          name                       url\n",
       "1            Universiteti Politeknik i Tiranës        http://www.upt.al/\n",
       "2  Universiteti i Elbasanit Aleksander Xhuvani  http://www.uniel.edu.al/\n",
       "3                       Universiteti i Tiranës     http://unitir.edu.al/"
      ]
     },
     "execution_count": 30,
     "metadata": {},
     "output_type": "execute_result"
    }
   ],
   "source": [
    "df"
   ]
  },
  {
   "cell_type": "code",
   "execution_count": null,
   "metadata": {},
   "outputs": [],
   "source": []
  }
 ],
 "metadata": {
  "kernelspec": {
   "display_name": "Python 3",
   "language": "python",
   "name": "python3"
  },
  "language_info": {
   "codemirror_mode": {
    "name": "ipython",
    "version": 3
   },
   "file_extension": ".py",
   "mimetype": "text/x-python",
   "name": "python",
   "nbconvert_exporter": "python",
   "pygments_lexer": "ipython3",
   "version": "3.7.6"
  }
 },
 "nbformat": 4,
 "nbformat_minor": 4
}
