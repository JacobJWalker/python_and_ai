{
 "cells": [
  {
   "cell_type": "code",
   "execution_count": 20,
   "metadata": {},
   "outputs": [
    {
     "name": "stdin",
     "output_type": "stream",
     "text": [
      "Do you want to [p]lay the Monty Hall problem, or do a Monte Carlo [s]imulation of it? [p/s]  s\n",
      "How many iterations should the simulation run? 10\n",
      "Should the simulation always change doors [y] or never change doors [n]? [y/n]  n\n"
     ]
    },
    {
     "name": "stdout",
     "output_type": "stream",
     "text": [
      "You won 3 times out of 10 games.\n"
     ]
    }
   ],
   "source": [
    "# Name: Monty Hall Game and Monte Carlo Simulation\n",
    "# Version: 0.2a3\n",
    "# Summary: A simple game that replicates the Monty Hall problem, and a Monte Carlo simulator to determine probabilities\n",
    "# Keywords: Monty Hall, Monte Carlo\n",
    "# Author: Jacob J. Walker\n",
    "#\n",
    "# Header comments based on meta-data specs at https://packaging.python.org/specifications/core-metadata/\n",
    "\n",
    "import random\n",
    "\n",
    "car_location = random.randint(1,3)\n",
    "\n",
    "# print(car_location)\n",
    "\n",
    "# Initialize doors\n",
    "door = {}\n",
    "for i in (1,2,3):\n",
    "    door[i] = \"Goat\"\n",
    "#     print(str(i) + \": \" + door[i])\n",
    "\n",
    "door[car_location] = \"Car\"\n",
    "\n",
    "# Get guess and tell player whether they won or not\n",
    "guess = input(\"Which door do you choose? \")\n",
    "\n",
    "if door[int(guess)] == \"Goat\":\n",
    "    print(\"Sorry, you got a goat. If you chose door number \" + str(car_location) + \" you would have won the car...\")\n",
    "elif door[int(guess)] == \"Car\":\n",
    "    print(\"You won a car!!!\")\n",
    "else:\n",
    "    print(\"Sorry, I did not understand.\")"
   ]
  },
  {
   "cell_type": "code",
   "execution_count": null,
   "metadata": {},
   "outputs": [],
   "source": []
  },
  {
   "cell_type": "code",
   "execution_count": null,
   "metadata": {},
   "outputs": [],
   "source": []
  }
 ],
 "metadata": {
  "kernelspec": {
   "display_name": "Python 3",
   "language": "python",
   "name": "python3"
  },
  "language_info": {
   "codemirror_mode": {
    "name": "ipython",
    "version": 3
   },
   "file_extension": ".py",
   "mimetype": "text/x-python",
   "name": "python",
   "nbconvert_exporter": "python",
   "pygments_lexer": "ipython3",
   "version": "3.7.6"
  }
 },
 "nbformat": 4,
 "nbformat_minor": 4
}
