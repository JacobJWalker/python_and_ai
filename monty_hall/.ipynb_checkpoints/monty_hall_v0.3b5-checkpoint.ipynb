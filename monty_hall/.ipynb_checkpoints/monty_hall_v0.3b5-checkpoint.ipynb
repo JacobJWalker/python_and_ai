{
 "cells": [
  {
   "cell_type": "code",
   "execution_count": 25,
   "metadata": {},
   "outputs": [
    {
     "name": "stdin",
     "output_type": "stream",
     "text": [
      "Do you want to [p]lay the Monty Hall problem, or do a Monte Carlo [s]imulation of it? [p/s]  s\n",
      "How many iterations should the simulation run? 100000\n",
      "Should the simulation always change doors [y] or never change doors [n]? [y/n]  y\n"
     ]
    },
    {
     "name": "stdout",
     "output_type": "stream",
     "text": [
      "You won 66617 times out of 100000 games.  This is 66.6% of the time\n"
     ]
    }
   ],
   "source": [
    "# Name: Monty Hall Game and Monte Carlo Simulation\n",
    "# Version: 0.3b5\n",
    "# Summary: A simple game that replicates the Monty Hall problem, and a Monte Carlo simulator to determine probabilities\n",
    "# Keywords: Monty Hall, Monte Carlo\n",
    "# Author: Jacob J. Walker\n",
    "#\n",
    "# Header comments based on meta-data specs at https://packaging.python.org/specifications/core-metadata/\n",
    "\n",
    "import random\n",
    "\n",
    "game_type = \"\"\n",
    "while game_type != \"p\" and game_type != \"s\":\n",
    "    game_type = input(\"Do you want to [p]lay the Monty Hall problem, or do a Monte Carlo [s]imulation of it? [p/s] \")\n",
    "\n",
    "total_iterations = 0\n",
    "simulation_choice = \"\"\n",
    "if game_type == \"s\":\n",
    "    while total_iterations < 1:\n",
    "        total_iterations = int(input(\"How many iterations should the simulation run?\"))\n",
    "    while simulation_choice != \"n\" and simulation_choice != \"y\":\n",
    "        simulation_choice = input(\"Should the simulation always change doors [y] or never change doors [n]? [y/n] \")\n",
    "\n",
    "wins = 0\n",
    "iterations = 0\n",
    "continue_playing = True\n",
    "while continue_playing:\n",
    "    car_location = random.randint(1,3)\n",
    "\n",
    "    # print(car_location)\n",
    "\n",
    "    # Initialize doors\n",
    "    door = {}\n",
    "    for i in (1,2,3):\n",
    "        door[i] = \"Goat\"\n",
    "    #     print(str(i) + \": \" + door[i])\n",
    "\n",
    "    door[car_location] = \"Car\"\n",
    "\n",
    "    # Get guess and tell player whether they won or not\n",
    "    if game_type == \"p\":\n",
    "        guess = input(\"Which door do you choose? \")\n",
    "    guess = random.randint(1,3)\n",
    "    \n",
    "    # Monty now shows another door\n",
    "    door_shown = random.randint(1,3)\n",
    "    while door[door_shown] == \"Car\" or door_shown == int(guess):\n",
    "        door_shown = random.randint(1,3)\n",
    "    \n",
    "    if game_type == \"p\":\n",
    "        print(\"Let me show you what is behind door number \" + str(door_shown) + \". It is a goat.\")\n",
    "\n",
    "    # Monty asks if you want to change doors\n",
    "   \n",
    "    if game_type == \"p\":\n",
    "        change_doors = input(\"Do you want to choose a different door? [y/n]\")\n",
    "    else:\n",
    "        change_doors = simulation_choice\n",
    "\n",
    "    if change_doors == \"y\":\n",
    "        new_door = 1\n",
    "        while int(guess) == new_door or door_shown == new_door:\n",
    "            new_door = new_door + 1\n",
    "        guess = new_door\n",
    "        if game_type == \"p\":\n",
    "            print(\"Ok, you choose door number \" + str(guess))\n",
    "    else:\n",
    "        if game_type == \"p\":\n",
    "            print(\"Ok, you stay with door number \" + str(guess))\n",
    "\n",
    "    # Finally show the door\n",
    "    if door[int(guess)] == \"Goat\":\n",
    "        if game_type == \"p\":\n",
    "            print(\"Sorry, you got a goat. If you chose door number \" + str(car_location) + \" you would have won the car...\")\n",
    "    elif door[int(guess)] == \"Car\":\n",
    "        if game_type == \"p\":\n",
    "            print(\"You won a car!!!\")\n",
    "        wins = wins + 1\n",
    "    else:\n",
    "        print(\"Sorry, I did not understand.\")\n",
    "    \n",
    "    iterations = iterations + 1\n",
    "    \n",
    "    if game_type == \"p\":\n",
    "        if(input(\"Do you want to play again? [y/n] \") == \"y\"):\n",
    "            continue_playing = True\n",
    "        else:\n",
    "            continue_playing = False\n",
    "    else:\n",
    "         if iterations >= total_iterations:\n",
    "            continue_playing = False\n",
    "        \n",
    "print(\"You won \" + str(wins) + \" times out of \" + str(iterations) + \" games.  This is \" + str(round(100*wins/iterations,1)) + \"% of the time\")"
   ]
  },
  {
   "cell_type": "code",
   "execution_count": null,
   "metadata": {},
   "outputs": [],
   "source": []
  },
  {
   "cell_type": "code",
   "execution_count": null,
   "metadata": {},
   "outputs": [],
   "source": []
  }
 ],
 "metadata": {
  "kernelspec": {
   "display_name": "Python 3",
   "language": "python",
   "name": "python3"
  },
  "language_info": {
   "codemirror_mode": {
    "name": "ipython",
    "version": 3
   },
   "file_extension": ".py",
   "mimetype": "text/x-python",
   "name": "python",
   "nbconvert_exporter": "python",
   "pygments_lexer": "ipython3",
   "version": "3.7.6"
  }
 },
 "nbformat": 4,
 "nbformat_minor": 4
}
