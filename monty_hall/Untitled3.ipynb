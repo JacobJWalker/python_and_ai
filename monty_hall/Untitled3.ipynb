{
 "cells": [
  {
   "cell_type": "code",
   "execution_count": 7,
   "metadata": {},
   "outputs": [
    {
     "name": "stdin",
     "output_type": "stream",
     "text": [
      "Which door do you choose? [1,2,3] 3\n"
     ]
    },
    {
     "name": "stdout",
     "output_type": "stream",
     "text": [
      "Let me show you what is behind door number 2. It is a goat.\n"
     ]
    },
    {
     "name": "stdin",
     "output_type": "stream",
     "text": [
      "Do you want to choose a different door? [y/n] y\n"
     ]
    },
    {
     "name": "stdout",
     "output_type": "stream",
     "text": [
      "Ok, you choose door number 1\n",
      "Sorry, you got a goat. If you chose door number 3 you would have won the car...\n"
     ]
    }
   ],
   "source": [
    "# Name: Monty Hall Game and Monte Carlo Simulation\n",
    "# Version: 0.2a3\n",
    "# Summary: A simple game that replicates the Monty Hall problem, and a Monte Carlo simulator to determine probabilities\n",
    "# Keywords: Monty Hall, Monte Carlo\n",
    "# Author: Jacob J. Walker\n",
    "#\n",
    "# Header comments based on meta-data specs at https://packaging.python.org/specifications/core-metadata/\n",
    "\n",
    "import random\n",
    "\n",
    "# Initialize doors\n",
    "door = {}\n",
    "for i in (1,2,3):\n",
    "    door[i] = \"Goat\"\n",
    "#     print(str(i) + \": \" + door[i])\n",
    "\n",
    "car_location = random.randint(1,3)\n",
    "# print(car_location)\n",
    "door[car_location] = \"Car\"\n",
    "\n",
    "# Get guess and tell player whether they won or not\n",
    "guess = input(\"Which door do you choose? [1,2,3]\")\n",
    "\n",
    "# Monty now shows another door\n",
    "door_shown = random.randint(1,3)\n",
    "while door_shown == car_location or door_shown == int(guess):\n",
    "    door_shown = random.randint(1,3)\n",
    "\n",
    "print(\"Let me show you what is behind door number \" + str(door_shown) + \". It is a goat.\")    \n",
    "     \n",
    "change_doors = input(\"Do you want to choose a different door? [y/n]\")\n",
    "\n",
    "if change_doors == \"y\":\n",
    "    possible_new_door = 1\n",
    "    while possible_new_door == int(guess)  or possible_new_door == door_shown:\n",
    "        possible_new_door = possible_new_door + 1\n",
    "    guess = possible_new_door\n",
    "    print(\"Ok, you choose door number \" + str(guess))\n",
    "\n",
    "\n",
    "if door[int(guess)] == \"Goat\":\n",
    "    print(\"Sorry, you got a goat. If you chose door number \" + str(car_location) + \" you would have won the car...\")\n",
    "elif door[int(guess)] == \"Car\":\n",
    "    print(\"You won a car!!!\")\n",
    "else:\n",
    "    print(\"Sorry, I did not understand.\")"
   ]
  },
  {
   "cell_type": "code",
   "execution_count": null,
   "metadata": {},
   "outputs": [],
   "source": []
  }
 ],
 "metadata": {
  "kernelspec": {
   "display_name": "Python 3",
   "language": "python",
   "name": "python3"
  },
  "language_info": {
   "codemirror_mode": {
    "name": "ipython",
    "version": 3
   },
   "file_extension": ".py",
   "mimetype": "text/x-python",
   "name": "python",
   "nbconvert_exporter": "python",
   "pygments_lexer": "ipython3",
   "version": "3.7.6"
  }
 },
 "nbformat": 4,
 "nbformat_minor": 4
}
