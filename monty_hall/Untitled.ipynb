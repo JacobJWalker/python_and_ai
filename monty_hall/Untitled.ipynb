{
 "cells": [
  {
   "cell_type": "code",
   "execution_count": 1,
   "metadata": {},
   "outputs": [
    {
     "name": "stdin",
     "output_type": "stream",
     "text": [
      "Welcome to the game. Each of three doors hides a prize. Two doors have goats and you want to win the car! Type 1, 2 or 3 then hit enter.   1\n"
     ]
    },
    {
     "name": "stdout",
     "output_type": "stream",
     "text": [
      "You chose door #1.\n",
      "We are going to open door #2. Inside there is a Goat.\n",
      "Door #3 is closed.\n",
      "We are going to open door #2. Inside there is a Goat.\n",
      "Door #3 is closed.\n"
     ]
    },
    {
     "name": "stdin",
     "output_type": "stream",
     "text": [
      "You can switch door #1 for door #3. Enter the door # you want to keep:  3\n"
     ]
    },
    {
     "name": "stdout",
     "output_type": "stream",
     "text": [
      "You won a Goat!\n"
     ]
    },
    {
     "name": "stdin",
     "output_type": "stream",
     "text": [
      "Press 1 to play again, press 0 to exit game:  1\n"
     ]
    }
   ],
   "source": [
    "import random\n",
    "\n",
    "car_location = random.randint(1,3)\n",
    "\n",
    "#Initialize doors\n",
    "door = {}\n",
    "for i in range(1,4):\n",
    "        door[i] = \"Goat\"\n",
    "\n",
    "door[car_location] = \"Car\"\n",
    "\n",
    "again = 1\n",
    "while again == 1:\n",
    "\n",
    "#User chooses a door\n",
    "        guess = input(\"Welcome to the game. Each of three doors hides a prize. Two doors have goats and you want to win the car! Type 1, 2 or 3 then hit enter.  \")\n",
    "        print(\"You chose door #\" + guess + \".\")\n",
    "\n",
    "        #Open a door with a goat \n",
    "        for j in range(1,4):\n",
    "                if j != int(guess) and door[j] != \"Car\":\n",
    "                        open = door[j]\n",
    "                #       print(\"Door#\" + str(j) + \"Inside\" + open)       \n",
    "                        print(\"We are going to open door #\" + str(j) + \". Inside there is a \" + open + \".\")\n",
    "                        break\n",
    "\n",
    "        #Show that door is closed\n",
    "        for k in range(1,4):\n",
    "                if k != int(guess) and k != j:\n",
    "                        closed = door[k]\n",
    "                        print(\"Door #\" + str(k) + \" is closed.\")\n",
    "                #print(closed)\n",
    "                #print(\"guess \" + guess)\n",
    "#Open a door with a goat \n",
    "        for j in range(1,4):\n",
    "                if j != int(guess) and door[j] != \"Car\":\n",
    "                        open = door[j]\n",
    "                #       print(\"Door#\" + str(j) + \"Inside\" + open)       \n",
    "                        print(\"We are going to open door #\" + str(j) + \". Inside there is a \" + open + \".\")\n",
    "                        break\n",
    "\n",
    "        #Show that door is closed\n",
    "        for k in range(1,4):\n",
    "                if k != int(guess) and k != j:\n",
    "                        closed = door[k]\n",
    "                        print(\"Door #\" + str(k) + \" is closed.\")\n",
    "                #print(closed)\n",
    "                #print(\"guess \" + guess)\n",
    "                #print(\"k \" + str(k))\n",
    "                        break\n",
    "\n",
    "#User has chance to switch doors\n",
    "        switch = input(\"You can switch door #\" + guess + \" for door #\" + str(k) + \". Enter the door # you want to keep: \")\n",
    "#print(\"switch:  \" + switch)\n",
    "#print(\"k: \" + str(k))\n",
    "#       print(str(again) + \" = again\")\n",
    "        if switch == guess:\n",
    "                print(\"You won a \" + door[int(guess)] + \"!\")\n",
    "        elif int(switch) == k:\n",
    "                print(\"You won a \" + closed + \"!\")\n",
    "        #else:\n",
    "        #####################################################   print(\"That is not an option.\")\n",
    "\n",
    "        again = input(\"Press 1 to play again, press 0 to exit game: \")\n",
    "        break\n",
    "\n",
    "#User has chance to switch doors\n",
    "        switch = input(\"You can switch door #\" + guess + \" for door #\" + str(k) + \". Enter the door # you want to keep: \")\n",
    "#print(\"switch:  \" + switch)\n",
    "#print(\"k: \" + str(k))\n",
    "#       print(str(again) + \" = again\")\n",
    "        if switch == guess:\n",
    "                print(\"You won a \" + door[int(guess)] + \"!\")\n",
    "        elif int(switch) == k:\n",
    "                print(\"You won a \" + closed + \"!\")\n",
    "        #else:\n",
    "        #####################################################   print(\"That is not an option.\")\n",
    "\n",
    "        again = input(\"Press 1 to play again, press 0 to exit game: \")\n",
    "\n",
    "        if again == str(1):\n",
    "                again = 1\n",
    "        #print(\"again = 1\")\n",
    "\n",
    "        elif again == str(0):\n",
    "                break\n",
    "#print(str(again) + \"again\")\n",
    "\n",
    "else: print(\"Thanks for playing!\")        "
   ]
  },
  {
   "cell_type": "code",
   "execution_count": null,
   "metadata": {},
   "outputs": [],
   "source": []
  },
  {
   "cell_type": "code",
   "execution_count": null,
   "metadata": {},
   "outputs": [],
   "source": []
  }
 ],
 "metadata": {
  "kernelspec": {
   "display_name": "Python 3",
   "language": "python",
   "name": "python3"
  },
  "language_info": {
   "codemirror_mode": {
    "name": "ipython",
    "version": 3
   },
   "file_extension": ".py",
   "mimetype": "text/x-python",
   "name": "python",
   "nbconvert_exporter": "python",
   "pygments_lexer": "ipython3",
   "version": "3.7.6"
  }
 },
 "nbformat": 4,
 "nbformat_minor": 4
}
